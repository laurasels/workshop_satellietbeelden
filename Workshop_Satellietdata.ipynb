{
  "nbformat": 4,
  "nbformat_minor": 0,
  "metadata": {
    "colab": {
      "name": "Workshop Satellietdata.ipynb",
      "provenance": [],
      "collapsed_sections": [],
      "toc_visible": true,
      "include_colab_link": true
    },
    "kernelspec": {
      "name": "python3",
      "display_name": "Python 3"
    }
  },
  "cells": [
    {
      "cell_type": "markdown",
      "metadata": {
        "id": "view-in-github",
        "colab_type": "text"
      },
      "source": [
        "<a href=\"https://colab.research.google.com/github/laurasels/workshop_satellietbeelden/blob/master/Workshop_Satellietdata.ipynb\" target=\"_parent\"><img src=\"https://colab.research.google.com/assets/colab-badge.svg\" alt=\"Open In Colab\"/></a>"
      ]
    },
    {
      "cell_type": "markdown",
      "metadata": {
        "id": "TblM0pkCBNT8",
        "colab_type": "text"
      },
      "source": [
        "# **Thema sessie NWB: Workshop Satellietdata**\n",
        "## Het detecteren van mutaties in het NWB met behulp van satellietdata en beeldherkenning.\n",
        "\n",
        "Deze workshop zal bestaan uit 3 delen:\n",
        "- Het verzamelen van de satellietbeelden en deze opknippen\n",
        "- koppeling naar het NWB\n",
        "- beeldherkenning voor rotondes middels een Machine Learning algoritme"
      ]
    },
    {
      "cell_type": "markdown",
      "metadata": {
        "id": "-B9xq0d6gcMf",
        "colab_type": "text"
      },
      "source": [
        "## **Voorbereiding**"
      ]
    },
    {
      "cell_type": "markdown",
      "metadata": {
        "id": "GBXXRLNKgJRg",
        "colab_type": "text"
      },
      "source": [
        "Voordat we beginnen, moeten we de data uploaden. Het zip bestand dat je hebt ontvangen via wetransfer kun je hier uploaden.\n",
        "\n",
        "Het zip bestand bevat onder andere een satellietafbeelding, een NWB bestand en een beeldherkenningsmodel."
      ]
    },
    {
      "cell_type": "code",
      "metadata": {
        "id": "SuBQA3hIamQN",
        "colab_type": "code",
        "colab": {}
      },
      "source": [
        "from google.colab import files\n",
        "files.upload()"
      ],
      "execution_count": 0,
      "outputs": []
    },
    {
      "cell_type": "code",
      "metadata": {
        "id": "jG9nswMzGqeu",
        "colab_type": "code",
        "colab": {}
      },
      "source": [
        "!curl https://transfer.sh/j4Ena/workshop.zip -o workshop.zip"
      ],
      "execution_count": 0,
      "outputs": []
    },
    {
      "cell_type": "markdown",
      "metadata": {
        "id": "8yS3vxopgqRu",
        "colab_type": "text"
      },
      "source": [
        "Dan unzippen we het bestand door *!unzip bestandsnaam.zip*"
      ]
    },
    {
      "cell_type": "code",
      "metadata": {
        "id": "xJqJ9lGbZdMT",
        "colab_type": "code",
        "colab": {}
      },
      "source": [
        "!unzip workshop.zip #bestandsnaam hier aanpassen"
      ],
      "execution_count": 0,
      "outputs": []
    },
    {
      "cell_type": "markdown",
      "metadata": {
        "id": "--Fw7m7vhZqY",
        "colab_type": "text"
      },
      "source": [
        "## **Stap 1: satellietdata**\n",
        "\n",
        "De satellietdata wordt verkregen via https://www.satellietdataportaal.nl/.\n",
        "\n",
        "\n",
        "\n",
        "\n",
        "Omdat deze bestanden erg groot zijn om te downloaden, hebben we alvast een plaatje van Maastricht gedownload.\n"
      ]
    },
    {
      "cell_type": "code",
      "metadata": {
        "id": "O5MSV9RGhw4h",
        "colab_type": "code",
        "colab": {}
      },
      "source": [
        "import matplotlib.pyplot as plt\n",
        "from matplotlib import image\n",
        "\n",
        "plt.figure(figsize=(12,12)) #grootte van het plotje\n",
        "img = image.imread(\"workshop/Maastricht.tif\")\n",
        "plt.imshow(img)\n",
        "\n",
        "plt.grid()"
      ],
      "execution_count": 0,
      "outputs": []
    },
    {
      "cell_type": "code",
      "metadata": {
        "id": "tTqoS7uXm07p",
        "colab_type": "code",
        "colab": {}
      },
      "source": [
        "print(\"Pixels afbeelding Maastricht: \", img.shape[0],\"x\", img.shape[1])"
      ],
      "execution_count": 0,
      "outputs": []
    },
    {
      "cell_type": "markdown",
      "metadata": {
        "id": "sEHhexoelP6v",
        "colab_type": "text"
      },
      "source": [
        "Nog steeds is de afbeelding te groot om beeldherkenning toe te passen. Daarom knippen we de afbeelding op in kleinere afbeeldingen van 1000x1000 pixels. "
      ]
    },
    {
      "cell_type": "markdown",
      "metadata": {
        "id": "WAr8iE4ijSLe",
        "colab_type": "text"
      },
      "source": [
        "Om dit te doen gebruiken we bepaalde python packages. Het volgende gedeelte runnen we zodat deze packages worden geladen. Wij maken gebruik van GDAL (Geospatial Data Abstraction Library). GDAL werkt goed met raster (.tif) en  vector (.shp) bestanden."
      ]
    },
    {
      "cell_type": "code",
      "metadata": {
        "id": "p2av8ylVH8LN",
        "colab_type": "code",
        "colab": {}
      },
      "source": [
        "!apt-get update\n",
        "!apt-get install libgdal-dev -y\n",
        "!apt-get install python-gdal -y\n",
        "!apt-get install python-numpy python-scipy -y\n",
        "print(\"All done.\")"
      ],
      "execution_count": 0,
      "outputs": []
    },
    {
      "cell_type": "markdown",
      "metadata": {
        "id": "gTzyLxWak1ux",
        "colab_type": "text"
      },
      "source": [
        "Nu kunnen we gaan knippen!"
      ]
    },
    {
      "cell_type": "code",
      "metadata": {
        "id": "ZskRVx8MA_ci",
        "colab_type": "code",
        "colab": {}
      },
      "source": [
        "import os, gdal\n",
        "\n",
        "in_path = \"workshop/Maastricht.tif\"\n",
        "\n",
        "os.makedirs(\"workshop/satelliet\", exist_ok=True) # hier maken we een nieuwe map 'satelliet' waar de plaatjes straks in komen\n",
        "out_path = \"workshop/satelliet/tile_\"\n",
        "\n",
        "tile_size_x = 1000 #aantal pixels breedte\n",
        "tile_size_y = 1000 #aantal pixels lengte\n",
        "\n",
        "ds = gdal.Open(in_path)\n",
        "band = ds.GetRasterBand(1)\n",
        "xsize = band.XSize\n",
        "ysize = band.YSize\n",
        "\n",
        "for i in range(0, xsize, tile_size_x):\n",
        "    for j in range(0, ysize, tile_size_y):\n",
        "        com_string = \"gdal_translate -of GTIFF -srcwin \" + str(i)+ \", \" + str(j) + \", \" + str(tile_size_x) + \", \" + str(tile_size_y) + \" \" + str(in_path) + \" \" + str(out_path) + str(i) + \"_\" + str(j) + \".tif\"\n",
        "        os.system(com_string)\n",
        "\n",
        "print(\"All done.\")"
      ],
      "execution_count": 0,
      "outputs": []
    },
    {
      "cell_type": "markdown",
      "metadata": {
        "id": "CHodLuItmspc",
        "colab_type": "text"
      },
      "source": [
        "Laten we een paar voorbeelden bekijken."
      ]
    },
    {
      "cell_type": "code",
      "metadata": {
        "id": "r_S966BaSnoM",
        "colab_type": "code",
        "colab": {}
      },
      "source": [
        "plt.rcParams[\"figure.figsize\"] = (8,8)\n",
        "\n",
        "img = image.imread(\"workshop/satelliet/tile_3000_1000.tif\")\n",
        "plt.imshow(img)\n",
        "plt.show()\n",
        "\n",
        "img = image.imread(\"workshop/satelliet/tile_2000_2000.tif\")\n",
        "plt.imshow(img)\n",
        "plt.show()\n",
        "\n",
        "img = image.imread(\"workshop/satelliet/tile_5000_1000.tif\")\n",
        "plt.imshow(img)\n",
        "plt.show()"
      ],
      "execution_count": 0,
      "outputs": []
    },
    {
      "cell_type": "markdown",
      "metadata": {
        "id": "wuBPdLmweymr",
        "colab_type": "text"
      },
      "source": [
        "## **Stap 2: NWB**\n",
        "\n",
        "Nu we de satellietbeelden hebben opgeknipt, willen we aan elk satelliet tegeltje het NWB bestand linken. \n",
        "\n",
        "Dit doen we door voor elke geknipte tegel, de tegel 'leeg' te openen en hierover het NWB bestand te openen. De wegen printen we in lichtgrijs (kleurcode 200) en de rotondes in zwart (kleurcode 1), zodat er geen verwarring kan ontstaan over wat een rotonde is. Het resultaat slaan we vervolgens op als .tif bestand.\n",
        "\n",
        "We definiëren de volgende functie die dit proces voor ons zal doen."
      ]
    },
    {
      "cell_type": "code",
      "metadata": {
        "id": "Tc9ti98Tg9TF",
        "colab_type": "code",
        "colab": {}
      },
      "source": [
        "# A script to rasterise a shapefile to the same projection & pixel resolution as a reference image.\n",
        "from osgeo import ogr, gdal\n",
        "import os\n",
        "import subprocess\n",
        "import numpy as np\n",
        "\n",
        "#shp_naar_tif.py maar dan als een functie op te roepen door rasterize(-,-,-,-)\n",
        "def rasterize(InputVector, InputVectorRB, RefImage, OutputImage):   \n",
        "    gdalformat = 'GTiff'\n",
        "    datatype = gdal.GDT_Byte\n",
        "    burnVal = 1 #value for the output image pixels\n",
        "\t##########################################################\n",
        "\t# Get projection info from reference image\n",
        "    Image = gdal.Open(RefImage, gdal.GA_ReadOnly)\n",
        "  # Get RGB array of reference image\n",
        "    band = Image.GetRasterBand(1)\n",
        "    xsize = band.XSize\n",
        "    ysize = band.YSize\n",
        "    rgb = np.dstack([Image.GetRasterBand(b).ReadAsArray() for b in (1,2,3)])\n",
        "    x,y,z = rgb.shape    \n",
        "\t# Open Shapefile\n",
        "    Shapefile = ogr.Open(InputVector)\n",
        "    Shapefile_layer = Shapefile.GetLayer()\n",
        "  # Open RB Shapefile\n",
        "    ShapefileRB = ogr.Open(InputVectorRB)\n",
        "    ShapefileRB_layer = ShapefileRB.GetLayer()\n",
        "\t# Rasterise\n",
        "    print(\"Rasterising shapefile...\")\n",
        "    Output = gdal.GetDriverByName(gdalformat).Create(OutputImage, Image.RasterXSize, Image.RasterYSize, 1, datatype, options=['COMPRESS=DEFLATE'])\n",
        "    Output.SetProjection(Image.GetProjectionRef())\n",
        "    Output.SetGeoTransform(Image.GetGeoTransform()) \n",
        "\t# Write data to band 1\n",
        "    Band = Output.GetRasterBand(1)\n",
        "    Band.SetNoDataValue(255)\n",
        "    gdal.RasterizeLayer(Output, [1], Shapefile_layer, burn_values=[200])\n",
        "    gdal.RasterizeLayer(Output, [1], ShapefileRB_layer, burn_values=[burnVal])\n",
        "\t# Prints black part on the new output image if the reference image is partially black (border image)\n",
        "    a = np.count_nonzero(rgb==0)\n",
        "    if a >= (rgb.size*0.07):\n",
        "        bw = Output.GetRasterBand(1).ReadAsArray()\n",
        "    \t#compare\n",
        "        for i in range(x):\n",
        "            for j in range(y):\n",
        "                if max(rgb[i,j,:])==0:\n",
        "                    bw[i,j]=0       \n",
        "        Output.GetRasterBand(1).WriteArray(bw)\t\n",
        "\t# Close datasets\n",
        "    Band = None\n",
        "    Output = None\n",
        "    Image = None\n",
        "    Shapefile = None\n",
        "  # Build image overviews\n",
        "    subprocess.call(\"gdaladdo --config COMPRESS_OVERVIEW DEFLATE \"+OutputImage+\" 2 4 8 16 32 64\", shell=True)\n",
        "    print(\"Done.\")\n",
        "\n",
        "print(\"Functie is gedefinieerd.\")"
      ],
      "execution_count": 0,
      "outputs": []
    },
    {
      "cell_type": "markdown",
      "metadata": {
        "id": "p2DfYz2dt-M9",
        "colab_type": "text"
      },
      "source": [
        "Nu kunnen we de functie aanroepen om satelliet tegels om te zetten in NWB tegels. De functie heeft 4 argumenten die we eerst moeten definiëren."
      ]
    },
    {
      "cell_type": "code",
      "metadata": {
        "id": "iLJuZs5yhfoD",
        "colab_type": "code",
        "colab": {}
      },
      "source": [
        "InputVector = \"workshop/NWB_Maastricht/Maastricht_NWB.shp\" # pad naar het NWB van Maastricht\n",
        "InputVectorRB = \"workshop/NWB_Maastricht/Maastricht_RB.shp\" # pad naar het NWB van Maastricht met alleen rotondes\n",
        "\n",
        "RefImage = \"workshop/satelliet/tile_3000_1000.tif\" # pad naar de satelliettegel die omgezet moet worden\n",
        "\n",
        "os.makedirs(\"workshop/NWB\", exist_ok=True) #maak een nieuwe map waar de NWB tegels in komen\n",
        "OutputImage = os.path.join(\"workshop/NWB/NWB_\"+RefImage.rsplit('/')[-1]) #pad naar de nieuwe NWB tegel met dezelfde naam als de satelliettegel\n",
        "\n",
        "print(RefImage, \" -> \",OutputImage)\n",
        "rasterize(InputVector, InputVectorRB, RefImage, OutputImage)"
      ],
      "execution_count": 0,
      "outputs": []
    },
    {
      "cell_type": "markdown",
      "metadata": {
        "id": "kPU-JuBL-XYl",
        "colab_type": "text"
      },
      "source": [
        "Laten we eens kijken hoe de NWB tegel er uit ziet."
      ]
    },
    {
      "cell_type": "code",
      "metadata": {
        "id": "ZAMpCXUw_bwL",
        "colab_type": "code",
        "colab": {}
      },
      "source": [
        "plt.figure(figsize=(15,15))\n",
        "\n",
        "plt.subplot(121)\n",
        "img = image.imread(RefImage)\n",
        "plt.imshow(img)\n",
        "\n",
        "plt.subplot(122)\n",
        "img = image.imread(OutputImage)\n",
        "plt.imshow(img, cmap='gray', vmin=0, vmax=255)\n",
        "\n",
        "plt.show()"
      ],
      "execution_count": 0,
      "outputs": []
    },
    {
      "cell_type": "markdown",
      "metadata": {
        "id": "Zs3XpjqGz4ty",
        "colab_type": "text"
      },
      "source": [
        "We zien dat de rotonde in het zwart is geprint en de wegen in grijs. \n",
        "\n",
        "Dit willen we eigenlijk voor alle afbeeldingen in de map satelliet doen. Het volgende script 'wandelt' langs alle afbeeldingen in de map satelliet en roept hiervoor de eerder gemaakte functie *rasterize()* aan."
      ]
    },
    {
      "cell_type": "code",
      "metadata": {
        "id": "9kXAobpzyWke",
        "colab_type": "code",
        "colab": {}
      },
      "source": [
        "for subdir, dirs, files in os.walk(\"workshop/satelliet\"):\n",
        "  for name in files:\n",
        "    RefImage = os.path.join(subdir+\"/\"+name)\n",
        "    OutputImage = os.path.join(\"workshop/NWB/NWB_\"+RefImage.rsplit('/')[-1])\n",
        "    rasterize(InputVector,InputVectorRB,RefImage,OutputImage)\n",
        "\n",
        "print(\"All done.\")"
      ],
      "execution_count": 0,
      "outputs": []
    },
    {
      "cell_type": "markdown",
      "metadata": {
        "id": "Cn5ZzoTT1VdJ",
        "colab_type": "text"
      },
      "source": [
        "Laten we nog wat voorbeelden plotten."
      ]
    },
    {
      "cell_type": "code",
      "metadata": {
        "id": "4Cb440y20kej",
        "colab_type": "code",
        "colab": {}
      },
      "source": [
        "plt.rcParams[\"figure.figsize\"] = (8,8)\n",
        "\n",
        "img = image.imread(\"workshop/NWB/NWB_tile_3000_1000.tif\")\n",
        "plt.imshow(img, cmap=\"gray\", vmin=0, vmax=255)\n",
        "plt.show()\n",
        "\n",
        "img = image.imread(\"workshop/NWB/NWB_tile_2000_2000.tif\")\n",
        "plt.imshow(img, cmap=\"gray\", vmin=0, vmax=255)\n",
        "plt.show()\n",
        "\n",
        "img = image.imread(\"workshop/NWB/NWB_tile_5000_1000.tif\")\n",
        "plt.imshow(img, cmap=\"gray\", vmin=0, vmax=255)\n",
        "plt.show()"
      ],
      "execution_count": 0,
      "outputs": []
    },
    {
      "cell_type": "markdown",
      "metadata": {
        "id": "ql3gB8glm7t3",
        "colab_type": "text"
      },
      "source": [
        "## **Stap 3: beeldherkenning**\n",
        "\n",
        "De data staat klaar in de mappen satelliet en NWB. Op deze afbeeldingen kunnen we nu beeldherkenning toepassen. Dit doen we door het getrainde model te laden. In de summary() staan alle lagen die het model heeft. We zien in de eerste laag als input een afbeelding van 1000 x 1000 pixels. In de allerlaatste laag (Dense1) zien we dat de input is omgezet in één score: een score boven de 50% resulteert in de klasse 1 (rotonde) en een score beneden de 50% resulteert in de klasse 0 (geen rotonde).\n"
      ]
    },
    {
      "cell_type": "code",
      "metadata": {
        "id": "PTc_VAgVgfp_",
        "colab_type": "code",
        "colab": {}
      },
      "source": [
        "from keras.models import load_model\n",
        "model = load_model('workshop/finalmodel2.h5', compile=False)\n",
        "\n",
        "model.summary()"
      ],
      "execution_count": 0,
      "outputs": []
    },
    {
      "cell_type": "markdown",
      "metadata": {
        "id": "QaJ1L3T1Wgtb",
        "colab_type": "text"
      },
      "source": [
        "Het model is al getraind, dus we kunnen direct beginnen met voorspellen! Hiervoor laden we weer wat python packages in en definiëren we een functie die de afbeelding plot en de score eronder weergeeft."
      ]
    },
    {
      "cell_type": "code",
      "metadata": {
        "id": "GePhNIm7pnJh",
        "colab_type": "code",
        "colab": {}
      },
      "source": [
        "from keras.preprocessing.image import img_to_array, load_img\n",
        "from keras.applications.vgg16 import preprocess_input\n",
        "\n",
        "def predict_image(file):\n",
        "  x = load_img(file, target_size=(1000,1000))\n",
        "  x = img_to_array(x)\n",
        "  x = np.expand_dims(x, axis=0)\n",
        "  x = preprocess_input(x)\n",
        "  score = model.predict(x)[0][0]\n",
        "  img = image.imread(file)\n",
        "  plt.rcParams[\"figure.figsize\"] = (7,7)\n",
        "  plt.figure()\n",
        "  plt.imshow(img)\n",
        "  plt.xlabel(\"Predicted score: \"+ str(score))\n",
        "  plt.show()"
      ],
      "execution_count": 0,
      "outputs": []
    },
    {
      "cell_type": "markdown",
      "metadata": {
        "id": "gmpvvTplW5RS",
        "colab_type": "text"
      },
      "source": [
        "We kunnen nu de functie *predict_image()* aanroepen met als argument het pad naar afbeelding."
      ]
    },
    {
      "cell_type": "code",
      "metadata": {
        "id": "C8ZM6eZuqI4I",
        "colab_type": "code",
        "colab": {}
      },
      "source": [
        "predict_image(\"workshop/satelliet/tile_3000_1000.tif\")\n",
        "predict_image(\"workshop/satelliet/tile_2000_2000.tif\")\n",
        "predict_image(\"workshop/satelliet/tile_5000_1000.tif\")"
      ],
      "execution_count": 0,
      "outputs": []
    },
    {
      "cell_type": "markdown",
      "metadata": {
        "id": "uAbd2YgfXZ-_",
        "colab_type": "text"
      },
      "source": [
        "Voor het NWB bestand hebben we ook nog een voorspelling nodig. Aangezien we al weten waar de rotondes zijn, hoeven we hier niet per se beeldherkenning op toe te passen (maar dat mag natuurlijk wel). \n",
        "\n",
        "De volgende functie maakt gebruik van de kleurcode van de geprinte rotondes. Wanneer een afbeelding de kleurcode 1 bevat, wordt de klasse 1 (rotonde) weergegeven. Wanneer de afbeelding geen zwart geprinte rotonde bevat en dus geen kleurcode 1, wordt de klasse 0 (geen rotonde) weergegeven."
      ]
    },
    {
      "cell_type": "code",
      "metadata": {
        "id": "a5LKOYKbN5yx",
        "colab_type": "code",
        "colab": {}
      },
      "source": [
        "def predict_NWB(file):\n",
        "  Image = gdal.Open(file)\n",
        "  rgb = np.dstack([Image.GetRasterBand(1).ReadAsArray()])\n",
        "  a = np.count_nonzero(rgb==1) #telt alle pixels met kleurcode 1 in de afbeelding\n",
        "  if a>0:\n",
        "    class_NWB=1\n",
        "  else:\n",
        "    class_NWB=0\n",
        "  img = image.imread(file)\n",
        "  plt.rcParams[\"figure.figsize\"] = (7,7)\n",
        "  plt.figure()\n",
        "  plt.imshow(img,cmap=\"gray\", vmin=0, vmax=255)\n",
        "  plt.xlabel(\"Predicted score: \"+ str(class_NWB))\n",
        "  plt.show()"
      ],
      "execution_count": 0,
      "outputs": []
    },
    {
      "cell_type": "code",
      "metadata": {
        "id": "OcFnnLvoa3HP",
        "colab_type": "code",
        "colab": {}
      },
      "source": [
        "predict_NWB(\"workshop/NWB/NWB_tile_3000_1000.tif\")\n",
        "predict_NWB(\"workshop/NWB/NWB_tile_2000_2000.tif\")\n",
        "predict_NWB(\"workshop/NWB/NWB_tile_5000_1000.tif\")"
      ],
      "execution_count": 0,
      "outputs": []
    },
    {
      "cell_type": "markdown",
      "metadata": {
        "id": "hldvlT6Gi-Z8",
        "colab_type": "text"
      },
      "source": [
        "Vervolgens kunnen we de plaatjes onder elkaar plotten voor meer overzicht."
      ]
    },
    {
      "cell_type": "code",
      "metadata": {
        "id": "xUNWmOJvbU6Z",
        "colab_type": "code",
        "colab": {}
      },
      "source": [
        "tile = \"tile_2000_2000.tif\"\n",
        "predict_image(\"workshop/satelliet/\"+tile)\n",
        "predict_NWB(\"workshop/NWB/NWB_\"+tile)\n"
      ],
      "execution_count": 0,
      "outputs": []
    },
    {
      "cell_type": "markdown",
      "metadata": {
        "id": "0O0a_wiNjG0W",
        "colab_type": "text"
      },
      "source": [
        "## **Conclusie**\n",
        "\n",
        "In Maastricht worden alle rotondes (9 stuks op dit deel van Maastricht) herkent met het algoritme. In het NWB bestand zijn al deze rotondes al geregistreerd.\n",
        "\n",
        "Maastricht heeft dus weinig aan het model, maar in Zuid-Holland zijn tot nu **aantal** rotondes gevonden die nog niet bekend waren bij het NWB. \n",
        "\n",
        "Het model geeft ook een aantal 'false positives' weer. Dit zijn delen die worden herkent als rotonde, maar het in werkelijkheid niet zijn. Vaak zijn dit ronde vormen in wegen of gebouwen. In de toekomst kan het model met meer data nog beter getraind worden zodat deze false positives minder vaak voor komen. Daarnaast kan het model nog uitgebreid worden naar het herkennen van nieuwe wegen of rijrichtingen. Suggesties zijn uiteraard ook welkom."
      ]
    }
  ]
}